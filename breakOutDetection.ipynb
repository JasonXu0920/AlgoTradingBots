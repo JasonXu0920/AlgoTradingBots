{
 "cells": [
  {
   "cell_type": "code",
   "execution_count": null,
   "metadata": {},
   "outputs": [],
   "source": [
    "import pandas as pd\n",
    "import pandas_ta as ta\n",
    "import numpy as np\n",
    "import plotly.graph_objects as go\n",
    "from scipy import stats\n",
    "import yfinance as yf\n",
    "\n",
    "df = pd.read_csv(\"example.csv\")\n",
    "df = df[df['volume'] != 0]\n",
    "df.reset_index(drop=True, inplace=True)\n",
    "\n",
    "df['EMA'] = ta.ema(df.close, length=150)\n",
    "df.tail()\n",
    "\n",
    "df=df[0:5000]\n"
   ]
  },
  {
   "cell_type": "code",
   "execution_count": null,
   "metadata": {},
   "outputs": [],
   "source": [
    "def isPivot(candle, window):\n",
    "    # pivot detection function\n",
    "\n",
    "    if candle - window < 0 or candle+window >= len(df):\n",
    "        return 0\n",
    "\n",
    "    pivotHigh = 1\n",
    "    pivotLow = 2\n",
    "    for i in range(candle-window, candle+window+1):\n",
    "        if df.iloc[candle].low > df.iloc[i].low:\n",
    "            pivotLow = 0\n",
    "        if df.iloc[candle].high < df.iloc[i].high:\n",
    "            pivotHigh = 0\n",
    "    \n",
    "    if(pivotHigh and pivotLow):\n",
    "        return 3\n",
    "    elif pivotHigh:\n",
    "        return pivotHigh\n",
    "    elif  pivotLow:\n",
    "        return pivotLow\n",
    "    else:\n",
    "        return 0"
   ]
  },
  {
   "cell_type": "code",
   "execution_count": null,
   "metadata": {},
   "outputs": [],
   "source": [
    "window = 10\n",
    "df['isPivot'] = df.apply(lambda x: isPivot(x.name, window), axis=1)"
   ]
  },
  {
   "cell_type": "code",
   "execution_count": null,
   "metadata": {},
   "outputs": [],
   "source": [
    "def pointpos(x):\n",
    "    if x['isPivot'] == 2:\n",
    "        return x['low']-1e-3\n",
    "    elif x['isPivot'] == 1:\n",
    "        return x['high']+1e-3\n",
    "    else:\n",
    "        return np.nan\n",
    "df['pointpos'] = df.apply(lambda row: pointpos(row), axis=1)"
   ]
  },
  {
   "cell_type": "code",
   "execution_count": null,
   "metadata": {},
   "outputs": [],
   "source": [
    "dfp1 = df[300:500]\n",
    "fig = go.Figure(data=[go.candlestick(x=dfp1.index,\n",
    "                        open=dfp1['open'],             \n",
    "                        high=dfp1['high'],\n",
    "                        low=dfp1['low'],\n",
    "                        close=dfp1['close']\n",
    "                        )])\n",
    "\n",
    "fig.add_scatter(x=dfp1.index, y=dfp1['pointpos'], mode='markers',\n",
    "                marker=dict(size=5, color='MediumPurple'),\n",
    "                name='pivot')\n",
    "fig.update_layout(xaxis_rangeslider_visible=False)\n",
    "fig.show()"
   ]
  }
 ],
 "metadata": {
  "kernelspec": {
   "display_name": "Python 3",
   "language": "python",
   "name": "python3"
  },
  "language_info": {
   "codemirror_mode": {
    "name": "ipython",
    "version": 3
   },
   "file_extension": ".py",
   "mimetype": "text/x-python",
   "name": "python",
   "nbconvert_exporter": "python",
   "pygments_lexer": "ipython3",
   "version": "3.10.2"
  }
 },
 "nbformat": 4,
 "nbformat_minor": 2
}
