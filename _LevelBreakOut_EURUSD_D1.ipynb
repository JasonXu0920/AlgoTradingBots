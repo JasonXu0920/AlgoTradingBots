{
 "cells": [
  {
   "attachments": {},
   "cell_type": "markdown",
   "metadata": {},
   "source": [
    "# Level Break Out"
   ]
  },
  {
   "attachments": {},
   "cell_type": "markdown",
   "metadata": {},
   "source": [
    "### Load the data"
   ]
  },
  {
   "cell_type": "code",
   "execution_count": null,
   "metadata": {},
   "outputs": [],
   "source": [
    "import pandas as pd\n",
    "import pandas_ta as ta\n",
    "import pandas as pd\n",
    "import numpy as np\n",
    "import plotly.graph_objects as go\n",
    "from scipy import stats\n",
    "\n",
    "df = pd.read_csv(\"EURUSD_Candlestick_1_D_BID_05.05.2003-28.10.2023.csv\")\n",
    "\n",
    "df.rename(columns={\n",
    "    'Open': 'open',\n",
    "    'High': 'high',\n",
    "    'Low': 'low',\n",
    "    'Close': 'close',\n",
    "    'Volume': 'volume'\n",
    "}, inplace=True)\n",
    "\n",
    "\n",
    "df=df[df['volume']!=0]\n",
    "df.reset_index(drop=True, inplace=True)\n",
    "\n",
    "df['EMA'] = ta.ema(df.close, length=50)\n",
    "df.tail()\n",
    "\n",
    "df=df[0:]\n",
    "df.reset_index(drop=True, inplace=True)"
   ]
  },
  {
   "attachments": {},
   "cell_type": "markdown",
   "metadata": {},
   "source": [
    "### Trend detection"
   ]
  },
  {
   "cell_type": "code",
   "execution_count": null,
   "metadata": {},
   "outputs": [],
   "source": [
    "EMAsignal = [0]*len(df)\n",
    "backcandles = 10\n",
    "\n",
    "for row in range(backcandles, len(df)):\n",
    "    upt = 1\n",
    "    dnt = 1\n",
    "    for i in range(row-backcandles, row+1):\n",
    "        if max(df.open[i], df.close[i])>=df.EMA[i]:\n",
    "            dnt=0\n",
    "        if min(df.open[i], df.close[i])<=df.EMA[i]:\n",
    "            upt=0\n",
    "    if upt==1 and dnt==1:\n",
    "        EMAsignal[row]=3\n",
    "    elif upt==1:\n",
    "        EMAsignal[row]=2\n",
    "    elif dnt==1:\n",
    "        EMAsignal[row]=1\n",
    "\n",
    "df['EMASignal'] = EMAsignal"
   ]
  },
  {
   "cell_type": "code",
   "execution_count": null,
   "metadata": {},
   "outputs": [],
   "source": [
    "df"
   ]
  },
  {
   "cell_type": "code",
   "execution_count": null,
   "metadata": {},
   "outputs": [],
   "source": [
    "def isPivot(candle, window):\n",
    "    \"\"\"\n",
    "    function that detects if a candle is a pivot/fractal point\n",
    "    args: candle index, window before and after candle to test if pivot\n",
    "    returns: 1 if pivot high, 2 if pivot low, 3 if both and 0 default\n",
    "    \"\"\"\n",
    "    if candle-window < 0 or candle+window >= len(df):\n",
    "        return 0\n",
    "    \n",
    "    pivotHigh = 1\n",
    "    pivotLow = 2\n",
    "    for i in range(candle-window, candle+window+1):\n",
    "        if df.iloc[candle].low > df.iloc[i].low:\n",
    "            pivotLow=0\n",
    "        if df.iloc[candle].high < df.iloc[i].high:\n",
    "            pivotHigh=0\n",
    "    if (pivotHigh and pivotLow):\n",
    "        return 3\n",
    "    elif pivotHigh:\n",
    "        return pivotHigh\n",
    "    elif pivotLow:\n",
    "        return pivotLow\n",
    "    else:\n",
    "        return 0"
   ]
  },
  {
   "cell_type": "code",
   "execution_count": null,
   "metadata": {},
   "outputs": [],
   "source": [
    "window=6\n",
    "df['isPivot'] = df.apply(lambda x: isPivot(x.name,window), axis=1)"
   ]
  },
  {
   "cell_type": "code",
   "execution_count": null,
   "metadata": {},
   "outputs": [],
   "source": [
    "def pointpos(x):\n",
    "    if x['isPivot']==2:\n",
    "        return x['low']-1e-3\n",
    "    elif x['isPivot']==1:\n",
    "        return x['high']+1e-3\n",
    "    else:\n",
    "        return np.nan\n",
    "df['pointpos'] = df.apply(lambda row: pointpos(row), axis=1)"
   ]
  },
  {
   "cell_type": "code",
   "execution_count": null,
   "metadata": {},
   "outputs": [],
   "source": [
    "dfpl = df[4300:4600]\n",
    "fig = go.Figure(data=[go.Candlestick(x=dfpl.index,\n",
    "                open=dfpl['open'],\n",
    "                high=dfpl['high'],\n",
    "                low=dfpl['low'],\n",
    "                close=dfpl['close'])])\n",
    "\n",
    "fig.add_scatter(x=dfpl.index, y=dfpl['pointpos'], mode=\"markers\",\n",
    "                marker=dict(size=5, color=\"MediumPurple\"),\n",
    "                name=\"pivot\")\n",
    "fig.update_layout(xaxis_rangeslider_visible=False)\n",
    "fig.show()"
   ]
  },
  {
   "cell_type": "code",
   "execution_count": null,
   "metadata": {},
   "outputs": [],
   "source": [
    "def detect_structure(candle, backcandles, window):\n",
    "    if (candle <= (backcandles+window)) or (candle+window+1 >= len(df)):\n",
    "        return 0\n",
    "    \n",
    "    localdf = df.iloc[candle-backcandles-window:candle-window] #window must be greater than pivot window to avoid look ahead bias\n",
    "    highs = localdf[localdf['isPivot'] == 1].high.tail(3).values\n",
    "    lows = localdf[localdf['isPivot'] == 2].low.tail(3).values\n",
    "    levelbreak = 0\n",
    "    zone_width = 0.01\n",
    "    if len(lows)==3:\n",
    "        support_condition = True\n",
    "        mean_low = lows.mean()\n",
    "        for low in lows:\n",
    "            if abs(low-mean_low)>zone_width:\n",
    "                support_condition = False\n",
    "                break\n",
    "        if support_condition and (mean_low - df.loc[candle].close)>zone_width*2:\n",
    "            levelbreak = 1\n",
    "\n",
    "    if len(highs)==3:\n",
    "        resistance_condition = True\n",
    "        mean_high = highs.mean()\n",
    "        for high in highs:\n",
    "            if abs(high-mean_high)>zone_width:\n",
    "                resistance_condition = False\n",
    "                break\n",
    "        if resistance_condition and (df.loc[candle].close-mean_high)>zone_width*2:\n",
    "            levelbreak = 2\n",
    "    return levelbreak\n"
   ]
  },
  {
   "cell_type": "code",
   "execution_count": null,
   "metadata": {},
   "outputs": [],
   "source": [
    "#df['pattern_detected'] = df.index.map(lambda x: detect_structure(x, backcandles=40, window=15))\n",
    "df['pattern_detected'] = df.apply(lambda row: detect_structure(row.name, backcandles=40, window=6), axis=1)\n"
   ]
  },
  {
   "cell_type": "code",
   "execution_count": null,
   "metadata": {},
   "outputs": [],
   "source": [
    "df[df['pattern_detected']!=0].head(20)"
   ]
  },
  {
   "cell_type": "code",
   "execution_count": null,
   "metadata": {},
   "outputs": [],
   "source": [
    "data = df[:5000].copy()\n",
    "def SIGNAL():\n",
    "    return data.pattern_detected\n",
    "data.rename(columns={\n",
    "    'open': 'Open',\n",
    "    'high': 'High',\n",
    "    'low': 'Low',\n",
    "    'close': 'Close',\n",
    "    'volume': 'Volume'\n",
    "}, inplace=True)\n",
    "data"
   ]
  },
  {
   "cell_type": "code",
   "execution_count": null,
   "metadata": {},
   "outputs": [],
   "source": [
    "data['RSI'] = ta.rsi(data['Close'])\n",
    "data.set_index(\"Gmt time\", inplace=True)\n",
    "data.index = pd.to_datetime(data.index, format='%d.%m.%Y %H:%M:%S.%f').floor('S')\n",
    "data"
   ]
  },
  {
   "cell_type": "code",
   "execution_count": null,
   "metadata": {},
   "outputs": [],
   "source": [
    "from backtesting import Strategy\n",
    "from backtesting import Backtest\n",
    "\n",
    "class MyStrat(Strategy):\n",
    "    mysize = 10000\n",
    "    def init(self):\n",
    "        super().init()\n",
    "        self.signal = self.I(SIGNAL)\n",
    "\n",
    "    def next(self):\n",
    "        super().next()\n",
    "        TPSLRatio = 2\n",
    "        perc = 0.03\n",
    "        \n",
    "        #Close trades if RSI is above 70 for long positions and below 30 for short positions\n",
    "        for trade in self.trades:\n",
    "            if trade.is_long and self.data.RSI[-1] > 80:\n",
    "                trade.close()\n",
    "            elif trade.is_short and self.data.RSI[-1] < 20:\n",
    "                trade.close()\n",
    "\n",
    "        if self.signal!=0 and len(self.trades)==0 and self.data.pattern_detected==2:\n",
    "            sl = self.data.Close[-1]-self.data.Close[-1]*perc\n",
    "            sldiff = abs(sl-self.data.Close[-1])\n",
    "            tp = self.data.Close[-1]+sldiff*TPSLRatio\n",
    "            self.buy(sl=sl, tp=tp, size=self.mysize)\n",
    "        \n",
    "        elif self.signal!=0 and len(self.trades)==0 and self.data.pattern_detected==1:         \n",
    "            sl = self.data.Close[-1]+self.data.Close[-1]*perc\n",
    "            sldiff = abs(sl-self.data.Close[-1])\n",
    "            tp = self.data.Close[-1]-sldiff*TPSLRatio\n",
    "            self.sell(sl=sl, tp=tp, size=self.mysize)\n",
    "\n",
    "bt = Backtest(data, MyStrat, cash=10000, margin=1/5)\n",
    "stat = bt.run()\n",
    "stat"
   ]
  },
  {
   "cell_type": "code",
   "execution_count": null,
   "metadata": {},
   "outputs": [],
   "source": [
    "from backtesting import Strategy\n",
    "from backtesting import Backtest\n",
    "\n",
    "class MyStrat(Strategy):\n",
    "    mysize = 5000 #5000\n",
    "    def init(self):\n",
    "        super().init()\n",
    "        self.signal = self.I(SIGNAL)\n",
    "\n",
    "    def next(self):\n",
    "        super().next()\n",
    "        TPSLRatio = 2\n",
    "        perc = 0.03\n",
    "\n",
    "        if len(self.trades)==1:\n",
    "            for trade in self.trades:\n",
    "                trade.sl = trade.entry_price\n",
    "            #self.trades[-1].sl = self.trades[-1].entry_price\n",
    "\n",
    "        # Close trades if RSI is above 70 for long positions and below 30 for short positions\n",
    "        # for trade in self.trades:\n",
    "        #     if trade.is_long and self.data.RSI[-1] > 80:\n",
    "        #         trade.close()\n",
    "        #     elif trade.is_short and self.data.RSI[-1] < 20:\n",
    "        #         trade.close()\n",
    "            \n",
    "        if self.signal!=0 and len(self.trades)==0 and self.data.pattern_detected==2:\n",
    "            sl1 = self.data.Close[-1]-self.data.Close[-1]*perc\n",
    "            sldiff = abs(sl1-self.data.Close[-1])\n",
    "            tp1 = self.data.Close[-1]+sldiff*TPSLRatio\n",
    "            tp2 = self.data.Close[-1]+sldiff\n",
    "            self.buy(sl=sl1, tp=tp1, size=self.mysize)\n",
    "            self.buy(sl=sl1, tp=tp2, size=self.mysize)\n",
    "        \n",
    "        elif self.signal!=0 and len(self.trades)==0 and self.data.pattern_detected==1:         \n",
    "            sl1 = self.data.Close[-1]+self.data.Close[-1]*perc\n",
    "            sldiff = abs(sl1-self.data.Close[-1])\n",
    "            tp1 = self.data.Close[-1]-sldiff*TPSLRatio\n",
    "            tp2 = self.data.Close[-1]-sldiff\n",
    "            self.sell(sl=sl1, tp=tp1, size=self.mysize)\n",
    "            self.sell(sl=sl1, tp=tp1, size=self.mysize)\n",
    "\n",
    "bt = Backtest(data, MyStrat, cash=10000, margin=1/5)\n",
    "stat = bt.run()\n",
    "stat"
   ]
  },
  {
   "cell_type": "code",
   "execution_count": null,
   "metadata": {},
   "outputs": [],
   "source": [
    "bt.plot()"
   ]
  },
  {
   "cell_type": "code",
   "execution_count": null,
   "metadata": {},
   "outputs": [],
   "source": []
  }
 ],
 "metadata": {
  "kernelspec": {
   "display_name": "Python 3 (ipykernel)",
   "language": "python",
   "name": "python3"
  },
  "language_info": {
   "codemirror_mode": {
    "name": "ipython",
    "version": 3
   },
   "file_extension": ".py",
   "mimetype": "text/x-python",
   "name": "python",
   "nbconvert_exporter": "python",
   "pygments_lexer": "ipython3",
   "version": "3.10.2"
  }
 },
 "nbformat": 4,
 "nbformat_minor": 2
}
